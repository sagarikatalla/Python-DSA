{
  "nbformat": 4,
  "nbformat_minor": 0,
  "metadata": {
    "colab": {
      "name": "Python DSA",
      "version": "0.3.2",
      "provenance": [],
      "collapsed_sections": [],
      "include_colab_link": true
    },
    "kernelspec": {
      "name": "python3",
      "display_name": "Python 3"
    }
  },
  "cells": [
    {
      "cell_type": "markdown",
      "metadata": {
        "id": "view-in-github",
        "colab_type": "text"
      },
      "source": [
        "<a href=\"https://colab.research.google.com/github/sagarikatalla/Python-DSA/blob/master/Python_DSA.ipynb\" target=\"_parent\"><img src=\"https://colab.research.google.com/assets/colab-badge.svg\" alt=\"Open In Colab\"/></a>"
      ]
    },
    {
      "cell_type": "markdown",
      "metadata": {
        "id": "JJnTwBN-4Fxg",
        "colab_type": "text"
      },
      "source": [
        "#Mutable and Immutable object in python\n",
        "https://medium.com/@meghamohan/mutable-and-immutable-side-of-python-c2145cf72747"
      ]
    },
    {
      "cell_type": "code",
      "metadata": {
        "id": "zts6CRMr4ZqF",
        "colab_type": "code",
        "outputId": "5168e9d9-7e19-4459-e422-bcc4a62b98c9",
        "colab": {
          "base_uri": "https://localhost:8080/",
          "height": 183
        }
      },
      "source": [
        "#### id function ########\n",
        "x = \"whoopsidaisies\"\n",
        "y = \"whoopsidaisies\"\n",
        "print(id(x),' ',id(y)) #id returns the memory location of storage of object\n",
        "print(x is y) #is compares if id is same for objects\n",
        "print(id(x)==id(y))\n",
        "print(id(x)==id(\"whoopsidaisies\"))\n",
        "##x and y point to same object\n",
        "\n",
        "#let's modify x\n",
        "x = \"whoopsidaisies\"+\"oompaloompa\"\n",
        "print('After x is modified')\n",
        "print(id(x)!=id(y)) \n",
        "print(id(x)!=id(\"whoopsidaisies\")) #x has changed while whoopsidaisies is in same position\n",
        "#Immutable objects doesn’t allow modification after creation\n",
        "\n",
        "#### type function #########\n",
        "a = 3000\n",
        "b = \"I love you 3000\"\n",
        "print('\\n',a is b)\n",
        "print(type(a), type(b))"
      ],
      "execution_count": 0,
      "outputs": [
        {
          "output_type": "stream",
          "text": [
            "140326857373232   140326857373232\n",
            "True\n",
            "True\n",
            "True\n",
            "After x is modified\n",
            "True\n",
            "True\n",
            "\n",
            " False\n",
            "<class 'int'> <class 'str'>\n"
          ],
          "name": "stdout"
        }
      ]
    },
    {
      "cell_type": "code",
      "metadata": {
        "id": "h-Uhe6oGo3a7",
        "colab_type": "code",
        "outputId": "c75c584e-824a-4cbd-8607-0454a421a713",
        "colab": {
          "base_uri": "https://localhost:8080/",
          "height": 50
        }
      },
      "source": [
        "#list object\n",
        "m = [1,2,3]\n",
        "n = m\n",
        "print(n is m)\n",
        "\n",
        "#Modify list\n",
        "m[0] = [2]\n",
        "print(n is m) #after modification, m,n point to same object\n",
        "\n"
      ],
      "execution_count": 0,
      "outputs": [
        {
          "output_type": "stream",
          "text": [
            "True\n",
            "True\n"
          ],
          "name": "stdout"
        }
      ]
    },
    {
      "cell_type": "markdown",
      "metadata": {
        "id": "Sb_dfYOMp73H",
        "colab_type": "text"
      },
      "source": [
        "\n",
        "\n",
        "*   Mutable objects are faster to change; used when you want to change size of object.\n",
        "Ex: List, dict, set, byte array\n",
        "*   Immutable objects are expensive to change as they create a copy and don't modify the object\n",
        "Ex: int, str, bool, float, complex, frozen set, tuple\n"
      ]
    },
    {
      "cell_type": "code",
      "metadata": {
        "id": "NLOIwjDRqrZF",
        "colab_type": "code",
        "outputId": "9dd64422-cb95-43a3-e8b0-0ce92dcd3f2b",
        "colab": {
          "base_uri": "https://localhost:8080/",
          "height": 50
        }
      },
      "source": [
        "########Tuples ############\n",
        "t = (\"mordor\",[1,2,3])\n",
        "t1 = t\n",
        "\n",
        "#Let's modify tuple\n",
        "#t[0] = \"shire\"  #error!!! TypeError: 'tuple' object does not support item assignment\n",
        "\n",
        "#u can modify list part of tuple\n",
        "t[1][0] = 2\n",
        "\n",
        "print(t)\n",
        "print(t is t1)"
      ],
      "execution_count": 0,
      "outputs": [
        {
          "output_type": "stream",
          "text": [
            "('mordor', [2, 2, 3])\n",
            "True\n"
          ],
          "name": "stdout"
        }
      ]
    },
    {
      "cell_type": "code",
      "metadata": {
        "id": "1aFZfTo-tQJR",
        "colab_type": "code",
        "outputId": "58c66476-a73e-451b-dc21-ad8a6da48d09",
        "colab": {
          "base_uri": "https://localhost:8080/",
          "height": 117
        }
      },
      "source": [
        "# if a mutable object is called by reference in a function, it can change the original variable itself\n",
        "def updateList(list1):\n",
        "    list1 += [10]\n",
        "n = [5, 6]\n",
        "print(id(n))                  # 140326858204808\n",
        "updateList(n)\n",
        "print(n)                      # [5, 6, 10]\n",
        "print(id(n))                  # 140326858204808\n",
        "\n",
        "def updateNumber(n):\n",
        "    print(id(n))\n",
        "    n += 10\n",
        "b = 5\n",
        "print(id(b))                   # 10968928\n",
        "updateNumber(b)                # 10968928\n",
        "print(b) "
      ],
      "execution_count": 0,
      "outputs": [
        {
          "output_type": "stream",
          "text": [
            "140326857375496\n",
            "[5, 6, 10]\n",
            "140326857375496\n",
            "10968928\n",
            "10968928\n",
            "5\n"
          ],
          "name": "stdout"
        }
      ]
    },
    {
      "cell_type": "markdown",
      "metadata": {
        "id": "t-K9gmK4vAYN",
        "colab_type": "text"
      },
      "source": [
        "#Big-O analysis\n"
      ]
    },
    {
      "cell_type": "code",
      "metadata": {
        "id": "UJpcs6xvvHB2",
        "colab_type": "code",
        "outputId": "03f273b1-cb4c-4b43-b4b0-67505207c5a2",
        "colab": {
          "base_uri": "https://localhost:8080/",
          "height": 50
        }
      },
      "source": [
        "import time\n",
        "\n",
        "def sumOfN2(n):\n",
        "   start = time.time()\n",
        "\n",
        "   theSum = 0\n",
        "   for i in range(1,n+1):\n",
        "      theSum = theSum + i\n",
        "\n",
        "   end = time.time()\n",
        "\n",
        "   return theSum,end-start\n",
        "  \n",
        "print(sumOfN2(4))\n",
        "print(sumOfN2(4444))"
      ],
      "execution_count": 0,
      "outputs": [
        {
          "output_type": "stream",
          "text": [
            "(10, 1.6689300537109375e-06)\n",
            "(9876790, 0.000263214111328125)\n"
          ],
          "name": "stdout"
        }
      ]
    },
    {
      "cell_type": "markdown",
      "metadata": {
        "id": "Hj9vBo8s6bTB",
        "colab_type": "text"
      },
      "source": [
        "Write two Python functions to find the minimum number in a list. The first function should compare each number to every other number on the list. O(n2). The second function should be linear O(n)."
      ]
    },
    {
      "cell_type": "code",
      "metadata": {
        "id": "s0B4EOEy6ZrH",
        "colab_type": "code",
        "outputId": "d54310b8-4348-4cb1-d05f-c84c6bdbb734",
        "colab": {
          "base_uri": "https://localhost:8080/",
          "height": 50
        }
      },
      "source": [
        "x = [i for i in range(1000000)]\n",
        "#x = [65,-7,99]\n",
        "\n",
        "#find min\n",
        "#Method 1: compare each number to every number\n",
        "import time\n",
        "\n",
        "def comp1(x):\n",
        "  start = time.time()\n",
        "  y=x[0]\n",
        "  for i in x:\n",
        "    if y>i:\n",
        "      for j in x:\n",
        "        if i<j:\n",
        "          y = i\n",
        "        else:\n",
        "          y = j\n",
        "        #print(y)\n",
        "        \n",
        "  end =time.time()\n",
        "  return y,end-start\n",
        "\n",
        "print(comp1(x))\n",
        "\n",
        "#Method 2: linear O(n)\n",
        "def comp2(x):\n",
        "  start = time.time()\n",
        "  y = min(x)\n",
        "  end =time.time()\n",
        "  return y,end-start\n",
        "\n",
        "print(comp2(x))\n",
        "\n",
        "#for very large numbers you can see the difference between linear and square function, O(n^2)      \n"
      ],
      "execution_count": 0,
      "outputs": [
        {
          "output_type": "stream",
          "text": [
            "(0, 0.0413663387298584)\n",
            "(0, 0.019028186798095703)\n"
          ],
          "name": "stdout"
        }
      ]
    },
    {
      "cell_type": "markdown",
      "metadata": {
        "id": "N9c2i1gGcRoX",
        "colab_type": "text"
      },
      "source": [
        "#Anagram detection\n",
        "A brute force technique for solving a problem typically tries to exhaust all possibilities. For the anagram detection problem, we can simply generate a list of all possible strings using the characters from s1 and then see if s2 occurs. However, there is a difficulty with this approach. When generating all possible strings from s1, there are n possible first characters, n−1 possible characters for the second position,\n",
        "\n",
        "#Checking off approach: n(n+1)/2 ---> O(n^2)"
      ]
    },
    {
      "cell_type": "code",
      "metadata": {
        "id": "YQyMmQf6cVJW",
        "colab_type": "code",
        "colab": {}
      },
      "source": [
        "def anagramSolution1(s1,s2):\n",
        "    if len(s1) != len(s2):\n",
        "        stillOK = False\n",
        "\n",
        "    alist = list(s2)\n",
        "\n",
        "    pos1 = 0\n",
        "    stillOK = True\n",
        "\n",
        "    while pos1 < len(s1) and stillOK:\n",
        "        pos2 = 0\n",
        "        found = False\n",
        "        while pos2 < len(alist) and not found:\n",
        "            if s1[pos1] == alist[pos2]:\n",
        "                found = True\n",
        "            else:\n",
        "                pos2 = pos2 + 1\n",
        "\n",
        "        if found:\n",
        "            alist[pos2] = None\n",
        "        else:\n",
        "            stillOK = False\n",
        "\n",
        "        pos1 = pos1 + 1\n",
        "\n",
        "    return stillOK\n",
        "\n",
        "print(anagramSolution1('abcd','dcba'))\n"
      ],
      "execution_count": 0,
      "outputs": []
    },
    {
      "cell_type": "markdown",
      "metadata": {
        "id": "7SoWVvxffdyq",
        "colab_type": "text"
      },
      "source": [
        "#Sort and compare -- O(n) but sorting is expensive , O(n^2) or O(nlogn)"
      ]
    },
    {
      "cell_type": "code",
      "metadata": {
        "id": "pMRbX5JcfvGH",
        "colab_type": "code",
        "colab": {}
      },
      "source": [
        "def anagramSolution2(s1,s2):\n",
        "    alist1 = list(s1)\n",
        "    alist2 = list(s2)\n",
        "\n",
        "    alist1.sort()\n",
        "    alist2.sort()\n",
        "\n",
        "    pos = 0\n",
        "    matches = True\n",
        "\n",
        "    while pos < len(s1) and matches:\n",
        "        if alist1[pos]==alist2[pos]:\n",
        "            pos = pos + 1\n",
        "        else:\n",
        "            matches = False\n",
        "\n",
        "    return matches\n",
        "\n",
        "print(anagramSolution2('abcde','edcba'))\n"
      ],
      "execution_count": 0,
      "outputs": []
    },
    {
      "cell_type": "markdown",
      "metadata": {
        "id": "lkBm_6ISfw-F",
        "colab_type": "text"
      },
      "source": [
        "#Count and compare -- O(n) dynamic programming\n",
        "Although this solution was able to run in linear time, it could only do so by using additional storage to keep the two lists of character counts. In other words, this algorithm sacrificed space in order to gain time.\n",
        "Space time tradeoff"
      ]
    },
    {
      "cell_type": "code",
      "metadata": {
        "id": "qV1tZ6OPgA6D",
        "colab_type": "code",
        "outputId": "30833ab2-9a5c-4b84-e602-4fd623725b42",
        "colab": {
          "base_uri": "https://localhost:8080/",
          "height": 33
        }
      },
      "source": [
        "def anagramSolution4(s1,s2):\n",
        "    c1 = [0]*26\n",
        "    c2 = [0]*26\n",
        "\n",
        "    for i in range(len(s1)):\n",
        "        pos = ord(s1[i])-ord('a')\n",
        "        c1[pos] = c1[pos] + 1\n",
        "\n",
        "    for i in range(len(s2)):\n",
        "        pos = ord(s2[i])-ord('a')\n",
        "        c2[pos] = c2[pos] + 1\n",
        "\n",
        "    j = 0\n",
        "    stillOK = True\n",
        "    while j<26 and stillOK:\n",
        "        if c1[j]==c2[j]:\n",
        "            j = j + 1\n",
        "        else:\n",
        "            stillOK = False\n",
        "\n",
        "    return stillOK\n",
        "\n",
        "print(anagramSolution4('apple','pleap'))\n"
      ],
      "execution_count": 0,
      "outputs": [
        {
          "output_type": "stream",
          "text": [
            "True\n"
          ],
          "name": "stdout"
        }
      ]
    },
    {
      "cell_type": "markdown",
      "metadata": {
        "id": "mD8Fg_6wgoAV",
        "colab_type": "text"
      },
      "source": [
        "* Nested loops: O(n^2)\n",
        "*  Loops that take Half the time: O(logn) "
      ]
    },
    {
      "cell_type": "code",
      "metadata": {
        "id": "spVz0tsxhBl8",
        "colab_type": "code",
        "outputId": "3e62b8fa-91b2-40b7-fa3c-b0650b935336",
        "colab": {
          "base_uri": "https://localhost:8080/",
          "height": 50
        }
      },
      "source": [
        "i = 555555555\n",
        "import time\n",
        "while i > 0:\n",
        "   start = time.time()\n",
        "   k = 2 + 2\n",
        "   i = i // 2\n",
        "end = time.time()\n",
        "print('O(logn) time is half of next loop',end-start)\n",
        "\n",
        "while i > 0:\n",
        "   start = time.time()\n",
        "   k = 2 + 2\n",
        "   i = i\n",
        "end = time.time()\n",
        "print('O(n) time',end-start)\n"
      ],
      "execution_count": 0,
      "outputs": [
        {
          "output_type": "stream",
          "text": [
            "O(logn) time is half of next loop 2.47955322265625e-05\n",
            "O(n) time 0.0010542869567871094\n"
          ],
          "name": "stdout"
        }
      ]
    },
    {
      "cell_type": "code",
      "metadata": {
        "id": "AaiROaTsh-06",
        "colab_type": "code",
        "colab": {}
      },
      "source": [
        "def test1():\n",
        "    l = []\n",
        "    for i in range(1000):\n",
        "        l = l + [i]\n",
        "\n",
        "def test2():\n",
        "    l = []\n",
        "    for i in range(1000):\n",
        "        l.append(i)\n",
        "\n",
        "def test3():\n",
        "    l = [i for i in range(1000)]\n",
        "\n",
        "def test4():\n",
        "    l = list(range(1000))"
      ],
      "execution_count": 0,
      "outputs": []
    }
  ]
}